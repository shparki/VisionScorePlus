{
 "cells": [
  {
   "cell_type": "code",
   "execution_count": 1,
   "metadata": {},
   "outputs": [],
   "source": [
    "from IPython.display import display, HTML\n",
    "import infernal as infl"
   ]
  },
  {
   "cell_type": "code",
   "execution_count": 2,
   "metadata": {},
   "outputs": [
    {
     "data": {
      "text/html": [
       "<div>\n",
       "<style scoped>\n",
       "    .dataframe tbody tr th:only-of-type {\n",
       "        vertical-align: middle;\n",
       "    }\n",
       "\n",
       "    .dataframe tbody tr th {\n",
       "        vertical-align: top;\n",
       "    }\n",
       "\n",
       "    .dataframe thead th {\n",
       "        text-align: right;\n",
       "    }\n",
       "</style>\n",
       "<table border=\"1\" class=\"dataframe\">\n",
       "  <thead>\n",
       "    <tr style=\"text-align: right;\">\n",
       "      <th></th>\n",
       "      <th>accountId</th>\n",
       "      <th>id</th>\n",
       "      <th>name</th>\n",
       "      <th>profileIconId</th>\n",
       "      <th>puuid</th>\n",
       "      <th>revisionDate</th>\n",
       "      <th>summonerLevel</th>\n",
       "    </tr>\n",
       "  </thead>\n",
       "  <tbody>\n",
       "    <tr>\n",
       "      <th>0</th>\n",
       "      <td>Sw1W1fRK0tVjEXaz7SYs8I6inTK8Cl92JbZlAfbzsT1yPg</td>\n",
       "      <td>OvhEgPFL2VP8p35pozbsPJbJ9zG7RIAQo7_hPrXusk9brWs</td>\n",
       "      <td>Shparki</td>\n",
       "      <td>3855</td>\n",
       "      <td>bckp1653-5Y_Q4AQx-sMp1-5000Dou8r4qS6GlrohhIR-g...</td>\n",
       "      <td>1545628792000</td>\n",
       "      <td>99</td>\n",
       "    </tr>\n",
       "  </tbody>\n",
       "</table>\n",
       "</div>"
      ],
      "text/plain": [
       "                                        accountId  \\\n",
       "0  Sw1W1fRK0tVjEXaz7SYs8I6inTK8Cl92JbZlAfbzsT1yPg   \n",
       "\n",
       "                                                id     name  profileIconId  \\\n",
       "0  OvhEgPFL2VP8p35pozbsPJbJ9zG7RIAQo7_hPrXusk9brWs  Shparki           3855   \n",
       "\n",
       "                                               puuid   revisionDate  \\\n",
       "0  bckp1653-5Y_Q4AQx-sMp1-5000Dou8r4qS6GlrohhIR-g...  1545628792000   \n",
       "\n",
       "   summonerLevel  \n",
       "0             99  "
      ]
     },
     "metadata": {},
     "output_type": "display_data"
    }
   ],
   "source": [
    "api_key = 'RGAPI-a8a5c520-8f8a-4845-92c7-c93e9bc9ce7c'\n",
    "session = infl.core.Session(api_key, name='VisionScore+')\n",
    "# print('API Key:\\t\\t', session.api_key)\n",
    "# print('Endpoint:\\t\\t', session.endpoint)\n",
    "# print('UID:\\t\\t\\t', session.uid)\n",
    "# print('Name:\\t\\t\\t', session.name)\n",
    "\n",
    "shparki = infl.raw.Summoner.get_summoner_by_name(session, 'Shparki')\n",
    "display(shparki)"
   ]
  },
  {
   "cell_type": "code",
   "execution_count": 9,
   "metadata": {},
   "outputs": [
    {
     "data": {
      "text/plain": [
       "0    bckp1653-5Y_Q4AQx-sMp1-5000Dou8r4qS6GlrohhIR-g...\n",
       "Name: puuid, dtype: object"
      ]
     },
     "execution_count": 9,
     "metadata": {},
     "output_type": "execute_result"
    }
   ],
   "source": [
    "shparki.puuid\n"
   ]
  },
  {
   "cell_type": "code",
   "execution_count": null,
   "metadata": {},
   "outputs": [],
   "source": []
  }
 ],
 "metadata": {
  "kernelspec": {
   "display_name": "Python 3",
   "language": "python",
   "name": "python3"
  },
  "language_info": {
   "codemirror_mode": {
    "name": "ipython",
    "version": 3
   },
   "file_extension": ".py",
   "mimetype": "text/x-python",
   "name": "python",
   "nbconvert_exporter": "python",
   "pygments_lexer": "ipython3",
   "version": "3.6.7"
  }
 },
 "nbformat": 4,
 "nbformat_minor": 2
}
